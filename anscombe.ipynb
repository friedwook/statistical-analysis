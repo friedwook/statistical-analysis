{
 "cells": [
  {
   "cell_type": "markdown",
   "id": "a7ff07e6",
   "metadata": {},
   "source": [
    "# 앤스컴\n",
    "동일해 보이는 지표를 가지고 있지만 전혀 다른 데이터가 되는예"
   ]
  },
  {
   "cell_type": "code",
   "execution_count": null,
   "id": "1627ca71",
   "metadata": {},
   "outputs": [],
   "source": [
    "import numpy as np\n",
    "import pandas as pd\n"
   ]
  }
 ],
 "metadata": {
  "kernelspec": {
   "display_name": "base",
   "language": "python",
   "name": "python3"
  },
  "language_info": {
   "name": "python",
   "version": "3.12.7"
  }
 },
 "nbformat": 4,
 "nbformat_minor": 5
}
